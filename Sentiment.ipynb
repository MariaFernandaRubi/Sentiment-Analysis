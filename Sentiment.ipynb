{
 "cells": [
  {
   "cell_type": "markdown",
   "id": "f8358a46",
   "metadata": {},
   "source": [
    "#### Sentiment analysis (positive, negative, neutral)"
   ]
  },
  {
   "cell_type": "code",
   "execution_count": 3,
   "id": "591c9658",
   "metadata": {},
   "outputs": [],
   "source": [
    "#Import the Library\n",
    "from pysentimiento import create_analyzer\n",
    "import pandas as pd\n",
    "import matplotlib.pyplot as plt\n",
    "import seaborn as sns"
   ]
  },
  {
   "cell_type": "code",
   "execution_count": 4,
   "id": "114dca9d",
   "metadata": {},
   "outputs": [],
   "source": [
    "#Create a sentiment analyzer in Spanish\n",
    "analyzer = create_analyzer(task=\"sentiment\", lang=\"es\")\n",
    "\n",
    "#Comments list\n",
    "comments = [\n",
    "    \"El servicio fue excelente y rápido.\",\n",
    "    \"Estoy satisfecho con al entrega.\",\n",
    "    \"Me encantó la atención que recibí.\",\n",
    "    \"No volvería a comprar aquí, fue una mala experiencia.\",\n",
    "    \"Todo fue perfecto, superó mis expectativas.\",\n",
    "    \"El envío llegó en buen estado, excenlente.\",\n",
    "    \"Buena calidad y buen precio.\",\n",
    "    \"El soporte técnico no resolvió mi problema.\",\n",
    "    \"Estoy muy feliz con mi compra.\",\n",
    "    \"No me gustó para nada el servicio al cliente.\"\n",
    "]\n"
   ]
  },
  {
   "cell_type": "code",
   "execution_count": 5,
   "id": "67933fb9",
   "metadata": {},
   "outputs": [
    {
     "name": "stdout",
     "output_type": "stream",
     "text": [
      "🔍 Sentiment Analysis (BERT model in Spanish):\n"
     ]
    },
    {
     "data": {
      "text/html": [
       "<div>\n",
       "<style scoped>\n",
       "    .dataframe tbody tr th:only-of-type {\n",
       "        vertical-align: middle;\n",
       "    }\n",
       "\n",
       "    .dataframe tbody tr th {\n",
       "        vertical-align: top;\n",
       "    }\n",
       "\n",
       "    .dataframe thead th {\n",
       "        text-align: right;\n",
       "    }\n",
       "</style>\n",
       "<table border=\"1\" class=\"dataframe\">\n",
       "  <thead>\n",
       "    <tr style=\"text-align: right;\">\n",
       "      <th></th>\n",
       "      <th>Comment</th>\n",
       "      <th>Feelings</th>\n",
       "      <th>Prob_POS</th>\n",
       "      <th>Prob_NEG</th>\n",
       "      <th>Probability</th>\n",
       "    </tr>\n",
       "  </thead>\n",
       "  <tbody>\n",
       "    <tr>\n",
       "      <th>0</th>\n",
       "      <td>El servicio fue excelente y rápido.</td>\n",
       "      <td>POS</td>\n",
       "      <td>0.96</td>\n",
       "      <td>0.00</td>\n",
       "      <td>0.96</td>\n",
       "    </tr>\n",
       "    <tr>\n",
       "      <th>1</th>\n",
       "      <td>Estoy satisfecho con al entrega.</td>\n",
       "      <td>POS</td>\n",
       "      <td>0.94</td>\n",
       "      <td>0.00</td>\n",
       "      <td>0.94</td>\n",
       "    </tr>\n",
       "    <tr>\n",
       "      <th>2</th>\n",
       "      <td>Me encantó la atención que recibí.</td>\n",
       "      <td>POS</td>\n",
       "      <td>0.97</td>\n",
       "      <td>0.00</td>\n",
       "      <td>0.97</td>\n",
       "    </tr>\n",
       "    <tr>\n",
       "      <th>3</th>\n",
       "      <td>No volvería a comprar aquí, fue una mala exper...</td>\n",
       "      <td>NEG</td>\n",
       "      <td>0.02</td>\n",
       "      <td>0.87</td>\n",
       "      <td>0.87</td>\n",
       "    </tr>\n",
       "    <tr>\n",
       "      <th>4</th>\n",
       "      <td>Todo fue perfecto, superó mis expectativas.</td>\n",
       "      <td>POS</td>\n",
       "      <td>0.94</td>\n",
       "      <td>0.01</td>\n",
       "      <td>0.94</td>\n",
       "    </tr>\n",
       "    <tr>\n",
       "      <th>5</th>\n",
       "      <td>El envío llegó en buen estado, excenlente.</td>\n",
       "      <td>POS</td>\n",
       "      <td>0.89</td>\n",
       "      <td>0.01</td>\n",
       "      <td>0.89</td>\n",
       "    </tr>\n",
       "    <tr>\n",
       "      <th>6</th>\n",
       "      <td>Buena calidad y buen precio.</td>\n",
       "      <td>POS</td>\n",
       "      <td>0.88</td>\n",
       "      <td>0.01</td>\n",
       "      <td>0.88</td>\n",
       "    </tr>\n",
       "    <tr>\n",
       "      <th>7</th>\n",
       "      <td>El soporte técnico no resolvió mi problema.</td>\n",
       "      <td>NEG</td>\n",
       "      <td>0.02</td>\n",
       "      <td>0.76</td>\n",
       "      <td>0.76</td>\n",
       "    </tr>\n",
       "    <tr>\n",
       "      <th>8</th>\n",
       "      <td>Estoy muy feliz con mi compra.</td>\n",
       "      <td>POS</td>\n",
       "      <td>0.95</td>\n",
       "      <td>0.00</td>\n",
       "      <td>0.95</td>\n",
       "    </tr>\n",
       "    <tr>\n",
       "      <th>9</th>\n",
       "      <td>No me gustó para nada el servicio al cliente.</td>\n",
       "      <td>NEG</td>\n",
       "      <td>0.01</td>\n",
       "      <td>0.96</td>\n",
       "      <td>0.96</td>\n",
       "    </tr>\n",
       "  </tbody>\n",
       "</table>\n",
       "</div>"
      ],
      "text/plain": [
       "                                             Comment Feelings  Prob_POS  \\\n",
       "0                El servicio fue excelente y rápido.      POS      0.96   \n",
       "1                   Estoy satisfecho con al entrega.      POS      0.94   \n",
       "2                 Me encantó la atención que recibí.      POS      0.97   \n",
       "3  No volvería a comprar aquí, fue una mala exper...      NEG      0.02   \n",
       "4        Todo fue perfecto, superó mis expectativas.      POS      0.94   \n",
       "5         El envío llegó en buen estado, excenlente.      POS      0.89   \n",
       "6                       Buena calidad y buen precio.      POS      0.88   \n",
       "7        El soporte técnico no resolvió mi problema.      NEG      0.02   \n",
       "8                     Estoy muy feliz con mi compra.      POS      0.95   \n",
       "9      No me gustó para nada el servicio al cliente.      NEG      0.01   \n",
       "\n",
       "   Prob_NEG  Probability  \n",
       "0      0.00         0.96  \n",
       "1      0.00         0.94  \n",
       "2      0.00         0.97  \n",
       "3      0.87         0.87  \n",
       "4      0.01         0.94  \n",
       "5      0.01         0.89  \n",
       "6      0.01         0.88  \n",
       "7      0.76         0.76  \n",
       "8      0.00         0.95  \n",
       "9      0.96         0.96  "
      ]
     },
     "metadata": {},
     "output_type": "display_data"
    }
   ],
   "source": [
    "#Sentiment analysis\n",
    "results = []\n",
    "for comment in comments:\n",
    "    result = analyzer.predict(comment)\n",
    "    results.append({\n",
    "        \"Comment\": comment,\n",
    "        \"Feelings\": result.output,\n",
    "        \"Prob_POS\": round(result.probas[\"POS\"], 2),\n",
    "        \"Prob_NEG\": round(result.probas[\"NEG\"], 2),\n",
    "        \"Probability\": round(result.probas[result.output], 2)\n",
    "    })\n",
    "\n",
    "#Create the DataFrame\n",
    "df_results = pd.DataFrame(results)\n",
    "\n",
    "#Show result\n",
    "print(\"🔍 Sentiment Analysis (BERT model in Spanish):\")\n",
    "display(df_results)"
   ]
  },
  {
   "cell_type": "code",
   "execution_count": 6,
   "id": "48f81fc6",
   "metadata": {},
   "outputs": [
    {
     "name": "stderr",
     "output_type": "stream",
     "text": [
      "C:\\Users\\María Fernanda\\AppData\\Local\\Temp\\ipykernel_2236\\86583992.py:3: FutureWarning: \n",
      "\n",
      "Passing `palette` without assigning `hue` is deprecated and will be removed in v0.14.0. Assign the `x` variable to `hue` and set `legend=False` for the same effect.\n",
      "\n",
      "  sns.countplot(data=df_results, x=\"Feelings\", palette=\"Set2\")\n"
     ]
    },
    {
     "data": {
      "image/png": "[encoded data removed]",
      "text/plain": [
       "<Figure size 400x400 with 1 Axes>"
      ]
     },
     "metadata": {},
     "output_type": "display_data"
    }
   ],
   "source": [
    "#Visualization\n",
    "plt.figure(figsize=(4, 4))\n",
    "sns.countplot(data=df_results, x=\"Feelings\", palette=\"Set2\")\n",
    "plt.title(\"Distribution of Feelings\")\n",
    "plt.ylabel(\"Number of comments\")\n",
    "plt.grid(True)\n",
    "plt.tight_layout()\n",
    "plt.show()"
   ]
  },
  {
   "cell_type": "code",
   "execution_count": 8,
   "id": "36363199",
   "metadata": {},
   "outputs": [
    {
     "name": "stdout",
     "output_type": "stream",
     "text": [
      "Feelings\n",
      "POS    70.0\n",
      "NEG    30.0\n",
      "Name: proportion, dtype: float64\n",
      "Percentage of positive comments: 70.00%\n",
      "Percentage of negative comments: 30.00%\n",
      "POS/NEG ratio: 2.33\n"
     ]
    }
   ],
   "source": [
    "#Percentage of positive and negative comments\n",
    "pcg = df_results[\"Feelings\"].value_counts(normalize=True) * 100\n",
    "print(pcg)\n",
    "\n",
    "#Store in variables \n",
    "pos_percent = pcg.get(\"POS\", 0)\n",
    "neg_percent = pcg.get(\"NEG\", 0)\n",
    "\n",
    "print(f\"Percentage of positive comments: {pos_percent:.2f}%\")\n",
    "print(f\"Percentage of negative comments: {neg_percent:.2f}%\")\n",
    "\n",
    "#Ratio of positive to negative comments\n",
    "if neg_percent > 0:\n",
    "    ratio = pos_percent / neg_percent\n",
    "    print(f\"POS/NEG ratio: {ratio:.2f}\")\n",
    "else:\n",
    "    print(\"There are no negative comments, so the ratio cannot be calculated.\")"
   ]
  },
  {
   "cell_type": "code",
   "execution_count": 9,
   "id": "1a605bb5",
   "metadata": {},
   "outputs": [],
   "source": [
    "#Export as CSV to work with POWER BI\n",
    "df_results.to_csv('Feelings.csv', index=False)"
   ]
  }
 ],
 "metadata": {
  "kernelspec": {
   "display_name": "Python 3",
   "language": "python",
   "name": "python3"
  },
  "language_info": {
   "codemirror_mode": {
    "name": "ipython",
    "version": 3
   },
   "file_extension": ".py",
   "mimetype": "text/x-python",
   "name": "python",
   "nbconvert_exporter": "python",
   "pygments_lexer": "ipython3",
   "version": "3.13.3"
  }
 },
 "nbformat": 4,
 "nbformat_minor": 5
}
